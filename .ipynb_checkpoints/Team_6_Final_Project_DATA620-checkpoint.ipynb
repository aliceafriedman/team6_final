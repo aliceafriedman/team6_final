{
 "cells": [
  {
   "cell_type": "code",
   "execution_count": 1,
   "metadata": {},
   "outputs": [],
   "source": [
    "import networkx as nx\n",
    "import matplotlib.pyplot as plt\n",
    "import pandas as pd\n",
    "import json\n",
    "from twython import Twython\n",
    "import time"
   ]
  },
  {
   "cell_type": "code",
   "execution_count": 4,
   "metadata": {},
   "outputs": [],
   "source": [
    "# Code below adapated from: https://stackabuse.com/accessing-the-twitter-api-with-python/\n",
    "# Load Twitter API credentials from json file\n",
    "with open(\"twitter_credentials.json\", \"r\") as file:  \n",
    "    creds = json.load(file)\n",
    "\n",
    "# Instantiate an object and provide Twitter credentials\n",
    "twitter = Twython(creds['CONSUMER_KEY'], creds['CONSUMER_SECRET_KEY'], creds['ACCESS_TOKEN'], creds['ACCESS_SECRET_TOKEN'])"
   ]
  },
  {
   "cell_type": "code",
   "execution_count": 62,
   "metadata": {},
   "outputs": [],
   "source": [
    "def get_followers_json(username):\n",
    "    # create empty dictionary to accept data\n",
    "    dict_fol = {'screen_name': [], 'verified': [], 'location': [], 'followers_count': [], 'tweet_text': [], 'retweet_count': [], 'favorite_count': []}  \n",
    "\n",
    "    # we don't want to dump directly to the graph because we'll get a giant hairball\n",
    "    # we will want to filter for users with more followers before moving to depth=2 of the social network\n",
    "    #create loop to page through API results without hitting rate limit\n",
    "    next_cursor = -1\n",
    "    timeout = time.time() + 60+60*12 #creates a hard end time for the script to run (12 hrs)\n",
    "\n",
    "    while(next_cursor):\n",
    "        if time.time() > timeout: \n",
    "            break #ends loop after timeout period\n",
    "        get_followers = twitter.get_followers_list(screen_name='mikegravel', count = 200, cursor=next_cursor)\n",
    "        for user in get_followers['users']:  \n",
    "            dict_fol['screen_name'].append(user['screen_name'])\n",
    "            dict_fol['verified'].append(user['verified'])\n",
    "            dict_fol['followers_count'].append(user['followers_count'])\n",
    "            \n",
    "            try:\n",
    "                dict_fol['location'].append(user['location'])\n",
    "            except:\n",
    "                dict_fol['location'].append(None) #many users leave this blank\n",
    "            \n",
    "            try:\n",
    "                dict_fol['tweet_text'].append(user['status']['text'])\n",
    "            except:\n",
    "                dict_fol['tweet_text'].append(None) #a good number of users have no tweets!\n",
    "            \n",
    "            try:\n",
    "                dict_fol['retweet_count'].append(user['status']['retweet_count'])\n",
    "            except:\n",
    "                dict_fol['retweet_count'].append(None)\n",
    "            \n",
    "            try:\n",
    "                dict_fol['favorite_count'].append(user['status']['favorite_count']) \n",
    "            except:\n",
    "                dict_fol['retweet_count'].append(None)\n",
    "                \n",
    "        try: \n",
    "            time.sleep(65)\n",
    "            next_cursor = get_followers[\"next_cursor\"]\n",
    "            print(\"Getting more of %s's followers' tweets\" % username)\n",
    "        except:\n",
    "            break\n",
    "    \n",
    "    filename=username + \"_followers.json\"\n",
    "    \n",
    "    with open(filename, \"w\") as file:\n",
    "        json.dump(dict_fol, file)\n",
    "        \n",
    "    print(\"Saving %s's followers to JSON file\" % username)\n",
    "    return get_followers"
   ]
  },
  {
   "cell_type": "code",
   "execution_count": 63,
   "metadata": {},
   "outputs": [
    {
     "name": "stdout",
     "output_type": "stream",
     "text": [
      "Saving mikegravel's followers to JSON file\n"
     ]
    }
   ],
   "source": [
    "get_followers = get_followers_json('mikegravel')"
   ]
  },
  {
   "cell_type": "code",
   "execution_count": 61,
   "metadata": {},
   "outputs": [
    {
     "ename": "TypeError",
     "evalue": "'NoneType' object is not subscriptable",
     "output_type": "error",
     "traceback": [
      "\u001b[0;31m---------------------------------------------------------------------------\u001b[0m",
      "\u001b[0;31mTypeError\u001b[0m                                 Traceback (most recent call last)",
      "\u001b[0;32m<ipython-input-61-0f8af7302940>\u001b[0m in \u001b[0;36m<module>\u001b[0;34m\u001b[0m\n\u001b[0;32m----> 1\u001b[0;31m \u001b[0mprint\u001b[0m\u001b[0;34m(\u001b[0m\u001b[0mget_followers\u001b[0m\u001b[0;34m[\u001b[0m\u001b[0;34m'users'\u001b[0m\u001b[0;34m]\u001b[0m\u001b[0;34m[\u001b[0m\u001b[0;36m1\u001b[0m\u001b[0;34m]\u001b[0m\u001b[0;34m[\u001b[0m\u001b[0;34m'status'\u001b[0m\u001b[0;34m]\u001b[0m\u001b[0;34m[\u001b[0m\u001b[0;34m'text'\u001b[0m\u001b[0;34m]\u001b[0m\u001b[0;34m)\u001b[0m\u001b[0;34m\u001b[0m\u001b[0;34m\u001b[0m\u001b[0m\n\u001b[0m",
      "\u001b[0;31mTypeError\u001b[0m: 'NoneType' object is not subscriptable"
     ]
    }
   ],
   "source": [
    "print(get_followers['users'][1]['status']['text'])"
   ]
  },
  {
   "cell_type": "code",
   "execution_count": null,
   "metadata": {},
   "outputs": [],
   "source": []
  }
 ],
 "metadata": {
  "kernelspec": {
   "display_name": "Python 3",
   "language": "python",
   "name": "python3"
  },
  "language_info": {
   "codemirror_mode": {
    "name": "ipython",
    "version": 3
   },
   "file_extension": ".py",
   "mimetype": "text/x-python",
   "name": "python",
   "nbconvert_exporter": "python",
   "pygments_lexer": "ipython3",
   "version": "3.7.3"
  }
 },
 "nbformat": 4,
 "nbformat_minor": 2
}
