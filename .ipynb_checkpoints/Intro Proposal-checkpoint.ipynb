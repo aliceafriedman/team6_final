{
 "cells": [
  {
   "cell_type": "markdown",
   "metadata": {},
   "source": [
    "# Data 620 Final Project  \n",
    "\n",
    "### Summer 2019  \n",
    "\n",
    "### Due: 7/17/19  \n",
    "\n",
    "### Group 6: Alice Friedman, Stephen Jones, Jeff Littlejohn, Jun Pan  \n",
    "\n",
    "## Summary\n",
    "\n",
    "Team 6 worked with a corpus of 100,000+ tweets scraped from the followers of presidential-hopeful Mike Gravel (@mikegravel) to analyze:\n",
    "\n",
    "\n",
    "## Table of Contents\n",
    "\n",
    "##### Part I. <a href=\"https://github.com/aliceafriedman/team6_final/blob/master/Final_Project_Sentiment_Analysis.ipynb\" target=\"_blank\">Sentiment Analysis</a>\n",
    "##### Part II. <a href=\"https://github.com/aliceafriedman/team6_final/blob/master/07162019JPFollowersTweetDownloader-final%20version.ipynb\" target=\"_blank\">Data Visualization</a>  \n",
    "##### Part III. <a href=\"https://github.com/aliceafriedman/team6_final/blob/master/classification_and_setup.ipynb\" target=\"_blank\">Classification</a>\n",
    "##### Part IV. <a href=\"https://github.com/aliceafriedman/team6_final/blob/master/Project%204%20Bad%20Twitter%20Bots%20Jeff_v1.ipynb\" target=\"_blank\">Twitter Bot</a>  \n",
    "\n",
    "## Introduction  \n",
    "\n",
    "#### Our Project:  \n",
    "\n",
    "What makes a social media post popular? What elements cause a Tweet to be liked or shared via retweet? Using a corpus of tweets from users loosely connected to a political candidate, we hope to find out. We will start with text analysis like word frequency distributions and sentiment analysis. What are the sentiments of the most liked tweets? Which words occur at irregular frequencies in heavily retweeted tweets?  \n",
    "\n",
    "Next, we will use a portion of our tweet corpus to train models using various algorithms from Python’s scikit-learn to predict likes and retweets. We will then use the remainder of the tweets to test the effectiveness of the models.  \n",
    "\n",
    "Time and data permitting, we hope to look at differences in the tweets of verified and non-verified users in attempt to determine how professional pundits or other prominent users may use social media tolls differently than amateur users. This should be in our text analysis portion. Additionally, we hope to use the tweet corpus to build a bot that writes its own tweets that aim for likes and retweets.  \n",
    "\n",
    "For Project 1, Group 6 dove deep into getting data from the Twitter API. We performed social network analysis looking at the followers (and for a sample of followers, the followers of followers) of the Democratic presidential candidate Mike Gravel. In performing this exercise, we learned that working with Twitter’s API can be difficult both in the amount of data you’re allowed to extract and the time which it takes to do so.  \n",
    "\n",
    "Data Source:  \n",
    "\n",
    "For the Final Project, we are sticking our initial approach of pulling data via the Twitter API from followers of Mike Gravel that we identified in that first project. However, we’ve updated our code to pull the text of the tweets and metadata such as number of retweets and likes. As of the time of the proposal, we appear to be limited to only pulling the last tweet from a given user at the time of our accessing the API, which is a significant limitation.  \n",
    "\n",
    "We’re aware that our sample of tweets is specific to people following a fringe primary candidate and not representative of social media overall or even just “political Twitter” itself. Still, an older political candidate curious about the sentiments and topics prevalent among younger, politically engaged users on social media could find an expanded version of our exercise useful in defining a strategy for voter engagement.  \n",
    "\n",
    "Group Breakdown:  \n",
    "\n",
    "We will leverage code developed during Project 1, which was principally developed by Stephen Jones and Alice Friedman. <a href=\"https://github.com/aliceafriedman/team6_final/blob/master/07162019JPFollowersTweetDownloader-final%20version.ipynb\" target=\"_blank\">Jun Pan augmented the code to pull actual tweets from the Twitter API</a> and will be specializing in data visualization for the final project. <a href=\"https://github.com/aliceafriedman/team6_final/blob/master/Final_Project_Sentiment_Analysis.ipynb\" target=\"_blank\">Stephen Jones will be primarily responsible for text analytics</a>, including word frequency and sentiment analysis. <a href=\"https://github.com/aliceafriedman/team6_final/blob/master/classification_and_setup.ipynb\" target=\"_blank\">Alice Friedman will be creating the model(s)</a> that predict the number of likes and retweets based on a tweet’s contents. <a href=\"https://github.com/aliceafriedman/team6_final/blob/master/Project%204%20Bad%20Twitter%20Bots%20Jeff_v1.ipynb\" target=\"_blank\">Jeff Littlejohn will be working on developing a bot</a> that creates its own political tweets, compiling the final work, and making the video.\n",
    "\n",
    "##### <center>Please click to continue: <a href=\"https://github.com/aliceafriedman/team6_final/blob/master/Final_Project_Sentiment_Analysis.ipynb\" target=\"_blank\">Sentiment Analysis</a>\n"
   ]
  }
 ],
 "metadata": {
  "kernelspec": {
   "display_name": "Python 3",
   "language": "python",
   "name": "python3"
  },
  "language_info": {
   "codemirror_mode": {
    "name": "ipython",
    "version": 3
   },
   "file_extension": ".py",
   "mimetype": "text/x-python",
   "name": "python",
   "nbconvert_exporter": "python",
   "pygments_lexer": "ipython3",
   "version": "3.7.3"
  },
  "toc": {
   "base_numbering": 1,
   "nav_menu": {},
   "number_sections": false,
   "sideBar": true,
   "skip_h1_title": false,
   "title_cell": "Table of Contents",
   "title_sidebar": "Contents",
   "toc_cell": false,
   "toc_position": {},
   "toc_section_display": true,
   "toc_window_display": false
  }
 },
 "nbformat": 4,
 "nbformat_minor": 2
}
