{
 "cells": [
  {
   "cell_type": "markdown",
   "metadata": {},
   "source": [
    "## Part 3. Classification"
   ]
  },
  {
   "cell_type": "code",
   "execution_count": 3,
   "metadata": {},
   "outputs": [],
   "source": [
    "import matplotlib.pyplot as plt\n",
    "import pandas as pd\n",
    "import json\n",
    "from twython import Twython\n",
    "import time\n",
    "import nltk\n",
    "from nltk.tokenize import TweetTokenizer\n",
    "import re\n",
    "import random"
   ]
  },
  {
   "cell_type": "markdown",
   "metadata": {},
   "source": [
    "# Organizing the data into a data frame\n",
    "\n",
    "We have a few different json files saved from different dates. We will combine them into a single corpus using ```pd.concat``` and adding a column for the date and time the data was collected based on the file name."
   ]
  },
  {
   "cell_type": "markdown",
   "metadata": {},
   "source": [
    "This code will:\n",
    "\n",
    "- Open all the files\n",
    "- Convert JSON to a Python dict file\n",
    "- Use ``pd.DataFram.from_dict`` to convert the dictionaries to Pandas data frames \n",
    "- Add a column with the date the data was scraped\n",
    "- Concatenate all the data frames into one"
   ]
  },
  {
   "cell_type": "code",
   "execution_count": 4,
   "metadata": {},
   "outputs": [
    {
     "name": "stdout",
     "output_type": "stream",
     "text": [
      "mikegravel1561157054.0137448_followers.json added\n",
      "mikegravel1562978529.995827_followers.json added\n"
     ]
    }
   ],
   "source": [
    "#list of files previously scraped using code above (files should be downloaded from git to run locally)\n",
    "filelist = ['mikegravel1561157054.0137448_followers.json', 'mikegravel1562978529.995827_followers.json']\n",
    "\n",
    "#use regular expressions to extract the ascii time each file was started (added to filename as part of above code)\n",
    "import re\n",
    "\n",
    "df_raw = pd.DataFrame() #create empty data frame\n",
    "\n",
    "regex = '\\d+.\\d+'\n",
    "\n",
    "for filename in filelist:\n",
    "    with open(filename) as file:\n",
    "        mgfol = json.load(file)\n",
    "    match = re.search(regex, filename) #finds timestamp in file name, returns match object\n",
    "    seconds = float(match[0]) #converts to float\n",
    "    datetime = time.ctime(seconds) #converts time to readable format\n",
    "    mgfol['datetime_data_scraped'] = datetime #creates dictionary key-value pair from datetime\n",
    "    df_fromfile = pd.DataFrame.from_dict(mgfol) #converts to pandas dataframe\n",
    "    df_raw = pd.concat([df_raw, df_fromfile], ignore_index = True) #concetenates dataframes\n",
    "    print(filename, \"added\")"
   ]
  },
  {
   "cell_type": "code",
   "execution_count": 5,
   "metadata": {},
   "outputs": [
    {
     "data": {
      "text/html": [
       "<div>\n",
       "<style scoped>\n",
       "    .dataframe tbody tr th:only-of-type {\n",
       "        vertical-align: middle;\n",
       "    }\n",
       "\n",
       "    .dataframe tbody tr th {\n",
       "        vertical-align: top;\n",
       "    }\n",
       "\n",
       "    .dataframe thead th {\n",
       "        text-align: right;\n",
       "    }\n",
       "</style>\n",
       "<table border=\"1\" class=\"dataframe\">\n",
       "  <thead>\n",
       "    <tr style=\"text-align: right;\">\n",
       "      <th></th>\n",
       "      <th>screen_name</th>\n",
       "      <th>verified</th>\n",
       "      <th>location</th>\n",
       "      <th>followers_count</th>\n",
       "      <th>tweet_text</th>\n",
       "      <th>retweet_count</th>\n",
       "      <th>favorite_count</th>\n",
       "      <th>datetime_data_scraped</th>\n",
       "    </tr>\n",
       "  </thead>\n",
       "  <tbody>\n",
       "    <tr>\n",
       "      <th>0</th>\n",
       "      <td>andyverderosa</td>\n",
       "      <td>True</td>\n",
       "      <td>nyc via sf</td>\n",
       "      <td>1369</td>\n",
       "      <td>I mean who among us hasn’t called off one or t...</td>\n",
       "      <td>0.0</td>\n",
       "      <td>4.0</td>\n",
       "      <td>Fri Jun 21 18:44:14 2019</td>\n",
       "    </tr>\n",
       "    <tr>\n",
       "      <th>1</th>\n",
       "      <td>mathrok</td>\n",
       "      <td>False</td>\n",
       "      <td>Wisconsin, USA</td>\n",
       "      <td>817</td>\n",
       "      <td>@OneNationOrg You know a response video with t...</td>\n",
       "      <td>0.0</td>\n",
       "      <td>3.0</td>\n",
       "      <td>Fri Jun 21 18:44:14 2019</td>\n",
       "    </tr>\n",
       "    <tr>\n",
       "      <th>2</th>\n",
       "      <td>g_stetz</td>\n",
       "      <td>False</td>\n",
       "      <td></td>\n",
       "      <td>83</td>\n",
       "      <td>RT @halaljew: it owns that Lisa Simpson has a ...</td>\n",
       "      <td>17783.0</td>\n",
       "      <td>0.0</td>\n",
       "      <td>Fri Jun 21 18:44:14 2019</td>\n",
       "    </tr>\n",
       "    <tr>\n",
       "      <th>5</th>\n",
       "      <td>maikiko</td>\n",
       "      <td>False</td>\n",
       "      <td>Los Angeles</td>\n",
       "      <td>415</td>\n",
       "      <td>RT @BhamDSA: There's a lot of spotlights on Al...</td>\n",
       "      <td>256.0</td>\n",
       "      <td>0.0</td>\n",
       "      <td>Fri Jun 21 18:44:14 2019</td>\n",
       "    </tr>\n",
       "    <tr>\n",
       "      <th>6</th>\n",
       "      <td>a_huge_goku</td>\n",
       "      <td>False</td>\n",
       "      <td>Long Island, NY</td>\n",
       "      <td>175</td>\n",
       "      <td>Board man gets paid</td>\n",
       "      <td>0.0</td>\n",
       "      <td>2.0</td>\n",
       "      <td>Fri Jun 21 18:44:14 2019</td>\n",
       "    </tr>\n",
       "    <tr>\n",
       "      <th>9</th>\n",
       "      <td>KrishMohanHaha</td>\n",
       "      <td>False</td>\n",
       "      <td>Pittsburgh, PA</td>\n",
       "      <td>1552</td>\n",
       "      <td>Hey @shoe0nhead, dig your #Aurthur video, but ...</td>\n",
       "      <td>0.0</td>\n",
       "      <td>2.0</td>\n",
       "      <td>Fri Jun 21 18:44:14 2019</td>\n",
       "    </tr>\n",
       "    <tr>\n",
       "      <th>10</th>\n",
       "      <td>end_it_pls</td>\n",
       "      <td>False</td>\n",
       "      <td>Republic of Croatia</td>\n",
       "      <td>44</td>\n",
       "      <td>@py_bun Rad from Walmart https://t.co/UZcW7dtrJo</td>\n",
       "      <td>0.0</td>\n",
       "      <td>0.0</td>\n",
       "      <td>Fri Jun 21 18:44:14 2019</td>\n",
       "    </tr>\n",
       "    <tr>\n",
       "      <th>11</th>\n",
       "      <td>RalphCollins4</td>\n",
       "      <td>False</td>\n",
       "      <td></td>\n",
       "      <td>365</td>\n",
       "      <td>Join the #BDS movement as the crimes against a...</td>\n",
       "      <td>0.0</td>\n",
       "      <td>0.0</td>\n",
       "      <td>Fri Jun 21 18:44:14 2019</td>\n",
       "    </tr>\n",
       "    <tr>\n",
       "      <th>12</th>\n",
       "      <td>ComradeAndy1848</td>\n",
       "      <td>False</td>\n",
       "      <td></td>\n",
       "      <td>78</td>\n",
       "      <td>RT @MikeGravel: The majority of people in this...</td>\n",
       "      <td>938.0</td>\n",
       "      <td>0.0</td>\n",
       "      <td>Fri Jun 21 18:44:14 2019</td>\n",
       "    </tr>\n",
       "    <tr>\n",
       "      <th>13</th>\n",
       "      <td>soolaymahn</td>\n",
       "      <td>False</td>\n",
       "      <td></td>\n",
       "      <td>7</td>\n",
       "      <td>@realDonaldTrump Lol where were you during Vie...</td>\n",
       "      <td>0.0</td>\n",
       "      <td>0.0</td>\n",
       "      <td>Fri Jun 21 18:44:14 2019</td>\n",
       "    </tr>\n",
       "  </tbody>\n",
       "</table>\n",
       "</div>"
      ],
      "text/plain": [
       "        screen_name  verified             location  followers_count  \\\n",
       "0     andyverderosa      True           nyc via sf             1369   \n",
       "1           mathrok     False       Wisconsin, USA              817   \n",
       "2           g_stetz     False                                    83   \n",
       "5           maikiko     False          Los Angeles              415   \n",
       "6       a_huge_goku     False      Long Island, NY              175   \n",
       "9    KrishMohanHaha     False       Pittsburgh, PA             1552   \n",
       "10       end_it_pls     False  Republic of Croatia               44   \n",
       "11    RalphCollins4     False                                   365   \n",
       "12  ComradeAndy1848     False                                    78   \n",
       "13       soolaymahn     False                                     7   \n",
       "\n",
       "                                           tweet_text  retweet_count  \\\n",
       "0   I mean who among us hasn’t called off one or t...            0.0   \n",
       "1   @OneNationOrg You know a response video with t...            0.0   \n",
       "2   RT @halaljew: it owns that Lisa Simpson has a ...        17783.0   \n",
       "5   RT @BhamDSA: There's a lot of spotlights on Al...          256.0   \n",
       "6                                 Board man gets paid            0.0   \n",
       "9   Hey @shoe0nhead, dig your #Aurthur video, but ...            0.0   \n",
       "10   @py_bun Rad from Walmart https://t.co/UZcW7dtrJo            0.0   \n",
       "11  Join the #BDS movement as the crimes against a...            0.0   \n",
       "12  RT @MikeGravel: The majority of people in this...          938.0   \n",
       "13  @realDonaldTrump Lol where were you during Vie...            0.0   \n",
       "\n",
       "    favorite_count     datetime_data_scraped  \n",
       "0              4.0  Fri Jun 21 18:44:14 2019  \n",
       "1              3.0  Fri Jun 21 18:44:14 2019  \n",
       "2              0.0  Fri Jun 21 18:44:14 2019  \n",
       "5              0.0  Fri Jun 21 18:44:14 2019  \n",
       "6              2.0  Fri Jun 21 18:44:14 2019  \n",
       "9              2.0  Fri Jun 21 18:44:14 2019  \n",
       "10             0.0  Fri Jun 21 18:44:14 2019  \n",
       "11             0.0  Fri Jun 21 18:44:14 2019  \n",
       "12             0.0  Fri Jun 21 18:44:14 2019  \n",
       "13             0.0  Fri Jun 21 18:44:14 2019  "
      ]
     },
     "execution_count": 5,
     "metadata": {},
     "output_type": "execute_result"
    }
   ],
   "source": [
    "#remove rows where the tweet_text is empty\n",
    "df = df_raw.dropna(subset=['tweet_text'])\n",
    "df.head(10)"
   ]
  },
  {
   "cell_type": "markdown",
   "metadata": {},
   "source": [
    "# Data Exploration\n",
    "\n",
    "What tweets are in the sample?"
   ]
  },
  {
   "cell_type": "code",
   "execution_count": 78,
   "metadata": {},
   "outputs": [
    {
     "data": {
      "text/plain": [
       "RT @MikeGravel: We will give $2,000 to a random person who follows this account and retweets this tweet by July 10—we're announcing a promo…      952\n",
       "RT @thejalatucker: If you DID NOT learn about Juneteenth in school, RT this, I’m really trying to see something.                                  391\n",
       "RT @MikeGravel: hey @JoeBiden turn on your tv https://t.co/IunLwGvAyZ                                                                             285\n",
       "RT @AndrewYang: I will give $1,000/mo for the next 12 months FREE to someone who retweets this and follows me by July 4th 😃 Let's show why…       161\n",
       "RT @MikeGravel: Remember for a moment that we live in a country where one idiotic, authoritarian man has unilateral control of whether we e…      147\n",
       "RT @IlhanMN: Just as in Iraq, aggressors are using illegitimate pretexts to beat the drums of war.\\n\\nJust as in Iraq, our media is taking th…    144\n",
       "RT @MikeGravel: we made it https://t.co/S0DmHjr9Zu                                                                                                130\n",
       "RT @dril: age 0 (baby): I want my Dada .\\nage 25 (Millennial): I want my Data\\nDo you see how fucked this is?                                     116\n",
       "RT @BernieSanders: The cat is out of the bag. The corporate wing of the Democratic Party is publicly \"anybody but Bernie.\" They know our pr…      113\n",
       "RT @MikeGravel: SIXTY THOUSAND DONORS!\\n\\nWe never dreamed we'd get this far. We're humbled by the support. What this movement has done is an…     99\n",
       "RT @jtlevy: “You can’t make Hitler analogies until there are at least six million dead” say people who make Stalin analogies when the top m…       99\n",
       "RT @mdb2: Bernie: “I think that there are a certain number of people who would like to see a woman elected, and I understand that.”\\n\\nAlso B…     97\n",
       "RT @halaljew: it owns that Lisa Simpson has a better understanding of the function that police serve in a capitalist society then the major…       86\n",
       "RT @MikeGravel: Folks, we can get this done today - we are less than 3,000 donors away (https://t.co/KTvD6ynS2k) from upending assumptions…        85\n",
       "RT @KateFlood: In protest of exploitative working conditions, workers at Amazon warehouses are withdrawing their labour on Amazon Prime Day…       85\n",
       "RT @BernieSanders: Wall Street executives may hate us. That's fine. This campaign is about standing with the working people of this country…       82\n",
       "RT @ECMcLaughlin: IF YOU CARE ABOUT WHAT TRUMP IS DOING AT THE BORDER, you need to read and share this thread. \\n\\n@jacobsoboroff @JuliaEAins…     81\n",
       "RT @TheOnion: Bolton Argues War With Iran Only Way To Avenge Americans Killed In Upcoming War With Iran https://t.co/yHJ0tpp3pD https://t.c…       81\n",
       "RT @KateAronoff: Good morning! The fossil fuel industry should be publicly owned and scaled down as quick as humanly possible https://t.co/…       70\n",
       "RT @RepBeatty: Hey teens! Vaping isn’t fleek or fire 🔥🔥🔥, that’s why the State of Ohio launched #MyLifeMyQuit to show you that you don’t ne…       70\n",
       "RT @NicholsUprising: This is the endorsement that matters.\\n\\nhttps://t.co/RC32uWZVbc                                                              69\n",
       "RT @AliceAvizandum: the slow but very real progression into fascism as charted by the evolution of the Lego police officer https://t.co/4Nu…       69\n",
       "RT @feraljokes: Trump pulled back on bombing Iran because he realized it was McCain's dying wish                                                   68\n",
       "RT @SusanSarandon: Mike Gravel needs only 3,000 more unique donors to get on the July debate stage! He will bring a voice for peace against…       65\n",
       "RT @AOC: This administration needs to put down its saber and pick up a phone.\\n\\nDiplomacy is what grants us peace and stability - not war.…       65\n",
       "RT @AOC: This is what the United States is doing in the name of the American people.\\n\\nIt’s child abuse, it’s indefensible, and we cannot wr…     65\n",
       "RT @AmyMcGrathKY: I’m running to replace Mitch McConnell in the U.S. Senate. Everything that’s wrong with Washington had to start somewhere…       65\n",
       "RT @RealAngelJr: 🚨🚨PLEASE SPREAD THE WORD !!!!!!!  🚨🚨🚨 https://t.co/uZAcemBMYI                                                                     64\n",
       "RT @BenjaminNorton: Let's be clear: The Trump admin sent a drone into what Iran says was its sovereign airspace. The US knew Iran would sho…       64\n",
       "RT @MikeGravel: The majority of people in this country want to tear down the established order, brick by brick, and start anew: an end to t…       62\n",
       "                                                                                                                                                 ... \n",
       "@MarlonEttinger @majorityfm @coreypein @AnaKasparian SAM LET US ON                                                                                  1\n",
       "RT @WBEZeducation: State says up to $7 billion still needed to properly fund Illinois schools. @WBEZ state education reporter @soosieon has…        1\n",
       "RT @thehill: 2020 Dem campaign to air Biden attack ad on MSNBC https://t.co/bu9dhm8wtP https://t.co/f5xVlMApuT                                      1\n",
       "RT @tinynietzsche: let's hear it for the void. let's give the void a hand. let's hear it for the abyss. you know you will never understand          1\n",
       "@mochiipanko i love the purple set 💜                                                                                                                1\n",
       "RT @wefail: Yet another print I cant sell, it's printed wonky (technical term). Once it's mounted it'll be perfect but I will leave that fo…        1\n",
       "@TootyMcNooty I work for Victoria Derbyshire. Can you please DM me your contact number asap?                                                        1\n",
       "RT @btsport: Goodnight, god bless 😴\\n\\nThe super slow-mo of Daniel Dubois' knockout of AJ Carter 😵 https://t.co/Yy7OXZe0a6                          1\n",
       "RT @JamesMartinSJ: Stand with the poor and marginalized.\\nStand with refugees and migrants.\\nStand with Jesus. \\nA Catholic Day of Action for…      1\n",
       "Mt. Washington: has the coldest year-round temp of anywhere in the lower 48, held the world record for wind speed f… https://t.co/uEApPp9hn4        1\n",
       "@TyroneW91110451 @GreteThorn @NBCNews @realDonaldTrump @SecPompeo @CIA @DeptofDefense Still far better than what yo… https://t.co/P3DjhVVjSw        1\n",
       "\"House votes to check Trump's authority to strike Iran\"  https://t.co/Kkrv1bgQ1y                                                                    1\n",
       "RT @Neruda639: Spends 30 seconds looking at Proust's Wikipedia page:\\nhttps://t.co/ot4rdqpaZb                                                       1\n",
       "@fail_cluez Best of luck with this project.                                                                                                         1\n",
       "@DesiJed @WeAreMel it is such a pleasure to work for a website hosting this essential content                                                       1\n",
       "Fucking idiots https://t.co/e6O9bJNoBD                                                                                                              1\n",
       "Stephen Suitts: The Racist History of “School Choice” | Diane Ravitch's blog ⁦@AOC⁩  https://t.co/raL5RgslRL                                        1\n",
       "@kenklippenstein Noooo. It’s too good                                                                                                               1\n",
       "RT @swear_trek: https://t.co/yZZbMi3eDx                                                                                                             1\n",
       "#algorithmsarefascist https://t.co/azfazc5kgl                                                                                                       1\n",
       "RT @YemenEmbassy_DC: Factsheet:#Houthis Condemn 30 Detractors To Death: New Evidence Points To Torture Of Detainees. \\nLink: https://t.co/ZP…       1\n",
       "@KT_So_It_Goes Love to slander American companies and call it anti-globalism                                                                        1\n",
       "Me and my love are going to have a safe and happy home on our next venture ❤                                                                        1\n",
       "@fToRrEeEsSt1 @Alscool1 @Fox_Mulder_8 I agree. If an obvious Dem centrist follows me I will not block or mute him/h… https://t.co/ejjktYSY6z        1\n",
       "@theintercept @rdevro The entire “homeland security” idea reeked of fascism from its inception.                                                     1\n",
       "“You’re not supposed to be so blind with patriotism that you can’t face reality. Wrong is wrong, no matter who says… https://t.co/wVForOFh34        1\n",
       "Defend DC Against Fascism Rally 40 #flickr https://t.co/GppcATxdZ2\\n@DMVBlackLives\\n#AllOutDC\\n@DCDefend\\n@mdc_dsa                                  1\n",
       "@WokeDon @paulimeth @Econ_Marshall A great argument for reparations!                                                                                1\n",
       "@realDonaldTrump @foxandfriends Ugh his random capitalization annoys the fuck out of me.                                                            1\n",
       "Ingmar &amp; I will be teaching Psychedelics 101 &amp; 102 w/ @NPVsweden and presenting our research findings at the… https://t.co/e4OvgISwMK       1\n",
       "Name: tweet_text, Length: 146729, dtype: int64"
      ]
     },
     "execution_count": 78,
     "metadata": {},
     "output_type": "execute_result"
    }
   ],
   "source": [
    "df['tweet_text'].value_counts()"
   ]
  },
  {
   "cell_type": "markdown",
   "metadata": {},
   "source": [
    "What is the distribution of retweets and likes? How do they relate to each other and to number of followers?"
   ]
  },
  {
   "cell_type": "code",
   "execution_count": 227,
   "metadata": {},
   "outputs": [
    {
     "data": {
      "image/png": "[encoded data removed]",
      "text/plain": [
       "<Figure size 432x288 with 2 Axes>"
      ]
     },
     "metadata": {
      "needs_background": "light"
     },
     "output_type": "display_data"
    }
   ],
   "source": [
    "#create rows for subplots\n",
    "fig, axes = plt.subplots(nrows=2, ncols=1, constrained_layout=True)\n",
    "\n",
    "#plot non-zero distribution of retweets and likes\n",
    "df[df['retweet_count']>0].retweet_count.plot(ax = axes[0], kind='hist',  range=(0,100))\n",
    "df[df['favorite_count']>0].favorite_count.plot(ax = axes[1], kind='hist', range=(0,100))\n",
    "\n",
    "axes[0].set_title('Distribution of retweets')\n",
    "axes[1].set_title('Distribution of likes')\n",
    "\n",
    "\n",
    "plt.show()"
   ]
  },
  {
   "cell_type": "code",
   "execution_count": 520,
   "metadata": {},
   "outputs": [
    {
     "data": {
      "image/png": "[encoded data removed]",
      "text/plain": [
       "<Figure size 432x288 with 1 Axes>"
      ]
     },
     "metadata": {
      "needs_background": "light"
     },
     "output_type": "display_data"
    }
   ],
   "source": [
    "df[df['favorite_count']>0].plot(x = 'favorite_count', y = 'retweet_count', kind = 'scatter')\n",
    "plt.title(\"Relationship of Likes to Retweets\")\n",
    "plt.xlabel(\"Likes\")\n",
    "plt.ylabel(\"Retweets\")\n",
    "plt.show()"
   ]
  },
  {
   "cell_type": "code",
   "execution_count": 10,
   "metadata": {},
   "outputs": [
    {
     "data": {
      "image/png": "[encoded data removed]",
      "text/plain": [
       "<Figure size 432x288 with 1 Axes>"
      ]
     },
     "metadata": {
      "needs_background": "light"
     },
     "output_type": "display_data"
    }
   ],
   "source": [
    "fig = df[df['retweet_count']>0].plot( x = 'followers_count', y = 'retweet_count', kind = 'scatter')\n",
    "fig.set_xscale('log')\n",
    "fig.set_yscale('log')\n",
    "plt.xlabel(\"Log Followers\")\n",
    "plt.ylabel(\"Log Retweets\")\n",
    "plt.title(\"Log-Scale Relationship of Followers to Retweets\")\n",
    "plt.show()"
   ]
  },
  {
   "cell_type": "code",
   "execution_count": 7,
   "metadata": {},
   "outputs": [
    {
     "data": {
      "image/png": "[encoded data removed]",
      "text/plain": [
       "<Figure size 432x288 with 1 Axes>"
      ]
     },
     "metadata": {
      "needs_background": "light"
     },
     "output_type": "display_data"
    }
   ],
   "source": [
    "fig = df[df['favorite_count']>0].plot(x = 'followers_count', y = 'favorite_count', kind = 'scatter')\n",
    "fig.set_xscale('log')\n",
    "fig.set_yscale('log')\n",
    "plt.xlabel(\"Log Followers\")\n",
    "plt.ylabel(\"Log Likes\")\n",
    "plt.title(\"Log-Scale Relationship of Followers to Likes\")\n",
    "plt.show()"
   ]
  },
  {
   "cell_type": "markdown",
   "metadata": {},
   "source": [
    "A few things are appararent from this set of distributions:\n",
    "\n",
    "1. To the extent that they are correlated, a pattern is more evident using a log-scale\n",
    "2. Likes seems less straight-forwardly dependent on number of followers, and therefore may be more predicatble based on the text of the tweet"
   ]
  },
  {
   "cell_type": "markdown",
   "metadata": {},
   "source": [
    "# Classification using ```sklearn```\n",
    "\n",
    "Which tweets are going to be the most popular? We will attempt to build a model to predict whether a tweet will be popular or not using ```sklearn```.\n",
    "\n",
    "## Data pre-processing\n",
    "\n",
    "First, we will need to do some pre-processing, including creating two classes to represent the relative popularity of the tweet. \n",
    "\n",
    "Because the number of likes is logically at least somewhat dependant on the number of followers, we will use a normalized measure and a log scale to categorize tweets as \"Liked a Little\" or \"Liked a Lot\"."
   ]
  },
  {
   "cell_type": "code",
   "execution_count": 413,
   "metadata": {},
   "outputs": [
    {
     "name": "stdout",
     "output_type": "stream",
     "text": [
      "     screen_name  verified         location  followers_count  \\\n",
      "0  andyverderosa      True       nyc via sf             1369   \n",
      "1        mathrok     False   Wisconsin, USA              817   \n",
      "2        g_stetz     False                                83   \n",
      "5        maikiko     False      Los Angeles              415   \n",
      "6    a_huge_goku     False  Long Island, NY              175   \n",
      "\n",
      "                                          tweet_text  retweet_count  \\\n",
      "0  I mean who among us hasn’t called off one or t...            0.0   \n",
      "1  @OneNationOrg You know a response video with t...            0.0   \n",
      "2  RT @halaljew: it owns that Lisa Simpson has a ...        17783.0   \n",
      "5  RT @BhamDSA: There's a lot of spotlights on Al...          256.0   \n",
      "6                                Board man gets paid            0.0   \n",
      "\n",
      "   favorite_count     datetime_data_scraped  \n",
      "0             4.0  Fri Jun 21 18:44:14 2019  \n",
      "1             3.0  Fri Jun 21 18:44:14 2019  \n",
      "2             0.0  Fri Jun 21 18:44:14 2019  \n",
      "5             0.0  Fri Jun 21 18:44:14 2019  \n",
      "6             2.0  Fri Jun 21 18:44:14 2019  \n"
     ]
    }
   ],
   "source": [
    "print(df.head())"
   ]
  },
  {
   "cell_type": "markdown",
   "metadata": {},
   "source": [
    "First we will create a sub-dataframe with the necessary columns."
   ]
  },
  {
   "cell_type": "code",
   "execution_count": 481,
   "metadata": {},
   "outputs": [],
   "source": [
    "#drop values that will kick back an \"undefined\" error\n",
    "greater_than_zero  = sub_df['favorite_count'] > 0 # this will prevent us from having an undefined log\n",
    "greater_than_one = sub_df['followers_count'] > 1 # this will prevent us from dividing by zero\n",
    "\n",
    "#creat subset of dataframe based on conditions\n",
    "sub_df = sub_df[greater_than_one & greater_than_zero]\n",
    "\n",
    "#drop missing values\n",
    "sub_df = sub_df.dropna(subset=['followers_count', 'favorite_count'])\n",
    "\n",
    "#add column to normalize log of retweets by the log of the number of followers\n",
    "from math import log\n",
    "sub_df.loc[:, 'likes_per_follower'] = pd.Series(sub_df.apply(lambda row: log(row.favorite_count)/log(row.followers_count), axis = 1))"
   ]
  },
  {
   "cell_type": "code",
   "execution_count": 482,
   "metadata": {},
   "outputs": [
    {
     "data": {
      "image/png": "[encoded data removed]",
      "text/plain": [
       "<Figure size 432x288 with 1 Axes>"
      ]
     },
     "metadata": {
      "needs_background": "light"
     },
     "output_type": "display_data"
    }
   ],
   "source": [
    "sub_df['likes_per_follower'].plot.hist(bins = 30)\n",
    "plt.title(\"Normalized Distribution of Log Likes per Log Follower\")\n",
    "plt.show()"
   ]
  },
  {
   "cell_type": "markdown",
   "metadata": {},
   "source": [
    "To use sklearn's built-in metrics, we will need to do addiitonal preprocessing to create a dataset where both classes are represented by columns, and each column has either a 1 or a 0 to indicate membership in the class."
   ]
  },
  {
   "cell_type": "code",
   "execution_count": 490,
   "metadata": {},
   "outputs": [
    {
     "data": {
      "text/html": [
       "<div>\n",
       "<style scoped>\n",
       "    .dataframe tbody tr th:only-of-type {\n",
       "        vertical-align: middle;\n",
       "    }\n",
       "\n",
       "    .dataframe tbody tr th {\n",
       "        vertical-align: top;\n",
       "    }\n",
       "\n",
       "    .dataframe thead th {\n",
       "        text-align: right;\n",
       "    }\n",
       "</style>\n",
       "<table border=\"1\" class=\"dataframe\">\n",
       "  <thead>\n",
       "    <tr style=\"text-align: right;\">\n",
       "      <th></th>\n",
       "      <th>tweet_text</th>\n",
       "      <th>Liked a Little</th>\n",
       "      <th>Liked a Lot</th>\n",
       "    </tr>\n",
       "  </thead>\n",
       "  <tbody>\n",
       "    <tr>\n",
       "      <th>0</th>\n",
       "      <td>I mean who among us hasn’t called off one or t...</td>\n",
       "      <td>1</td>\n",
       "      <td>0</td>\n",
       "    </tr>\n",
       "    <tr>\n",
       "      <th>1</th>\n",
       "      <td>@OneNationOrg You know a response video with t...</td>\n",
       "      <td>1</td>\n",
       "      <td>0</td>\n",
       "    </tr>\n",
       "    <tr>\n",
       "      <th>6</th>\n",
       "      <td>Board man gets paid</td>\n",
       "      <td>1</td>\n",
       "      <td>0</td>\n",
       "    </tr>\n",
       "    <tr>\n",
       "      <th>9</th>\n",
       "      <td>Hey @shoe0nhead, dig your #Aurthur video, but ...</td>\n",
       "      <td>1</td>\n",
       "      <td>0</td>\n",
       "    </tr>\n",
       "    <tr>\n",
       "      <th>16</th>\n",
       "      <td>fuck atlanta for so many reasons but.    this ...</td>\n",
       "      <td>1</td>\n",
       "      <td>0</td>\n",
       "    </tr>\n",
       "  </tbody>\n",
       "</table>\n",
       "</div>"
      ],
      "text/plain": [
       "                                           tweet_text  Liked a Little  \\\n",
       "0   I mean who among us hasn’t called off one or t...               1   \n",
       "1   @OneNationOrg You know a response video with t...               1   \n",
       "6                                 Board man gets paid               1   \n",
       "9   Hey @shoe0nhead, dig your #Aurthur video, but ...               1   \n",
       "16  fuck atlanta for so many reasons but.    this ...               1   \n",
       "\n",
       "    Liked a Lot  \n",
       "0             0  \n",
       "1             0  \n",
       "6             0  \n",
       "9             0  \n",
       "16            0  "
      ]
     },
     "execution_count": 490,
     "metadata": {},
     "output_type": "execute_result"
    }
   ],
   "source": [
    "#split into bottom 75% and top 25%\n",
    "cutoff = 0.75\n",
    "cutoff_val = sub_df.likes_per_follower.quantile(cutoff)\n",
    "\n",
    "#label assignment\n",
    "labels = ['Liked a Little', 'Liked a Lot']\n",
    "\n",
    "#function to map likes_per_follower to category\n",
    "def labeler(count):\n",
    "    \n",
    "    label0 = ''\n",
    "    \n",
    "    if count >= 0 and count < cutoff_val:\n",
    "        label0 =  1 #labels bottom 75% \n",
    "    else:\n",
    "        label0 = 0 #labels top 25%\n",
    "    \n",
    "    return label0\n",
    "\n",
    "#map data using function\n",
    "sub_df.loc[:, 'Liked a Little'] = pd.Series(sub_df['likes_per_follower'].map(lambda x: labeler(x)))\n",
    "sub_df.loc[:, 'Liked a Lot'] = pd.Series(sub_df['Liked a Little'].map(lambda x: abs(x-1)))\n",
    "\n",
    "#subset necessary columns\n",
    "data = sub_df[['tweet_text', 'Liked a Little', 'Liked a Lot']]\n",
    "data.head()"
   ]
  },
  {
   "cell_type": "markdown",
   "metadata": {},
   "source": [
    "Now, we can train and test the model using ```sklearn```'s built-in classifier, as well as a tokenizer developed to target Tweets from ```nltk```. We will test a few different models."
   ]
  },
  {
   "cell_type": "code",
   "execution_count": 509,
   "metadata": {},
   "outputs": [
    {
     "data": {
      "text/plain": [
       "scipy.sparse.csr.csr_matrix"
      ]
     },
     "execution_count": 509,
     "metadata": {},
     "output_type": "execute_result"
    }
   ],
   "source": [
    "# Import the necessary modules\n",
    "from sklearn.feature_extraction.text import CountVectorizer\n",
    "from sklearn.model_selection import train_test_split\n",
    "from nltk.tokenize import TweetTokenizer \n",
    "from sklearn.feature_extraction import text  #allows you to change stop_words\n",
    "\n",
    "#create tokenizer object\n",
    "td = TweetTokenizer()\n",
    "\n",
    "#add links to stop_words\n",
    "links = [r'http.+']\n",
    "stop_words = text.ENGLISH_STOP_WORDS.union(links)\n",
    "\n",
    "#store the labels as 'y'\n",
    "y = data['Liked a Lot']\n",
    "\n",
    "#create training and test sets, setting random seed to create reproducible data\n",
    "X_train, X_test, y_train, y_test = train_test_split(data['tweet_text'], y, test_size=0.33, random_state=53)\n",
    "\n",
    "#initialize a CountVectorizer object\n",
    "count_vectorizer = CountVectorizer(lowercase=True, stop_words='english', ngram_range = (1,3), tokenizer = td.tokenize)\n",
    "\n",
    "#transform the training data and test using only the 'tweet_text' column values\n",
    "count_train = count_vectorizer.fit_transform(X_train.values)\n",
    "count_test = count_vectorizer.transform(X_test.values)\n",
    "\n",
    "#result is a sparse matrix\n",
    "type(count_train)"
   ]
  },
  {
   "cell_type": "code",
   "execution_count": 508,
   "metadata": {},
   "outputs": [
    {
     "name": "stdout",
     "output_type": "stream",
     "text": [
      "These are some examples of features that will be tested: \n",
      "\n",
      "['@rralstonagile', '@pksubban1 help', 'mic 🔥 💪', 'thought room care', '🐈 ❤ ️', '@laurakathryyn', \"order explain it's\", 'wants baby']\n"
     ]
    }
   ],
   "source": [
    "print(\"These are some examples of features that will be tested: \\n\")\n",
    "\n",
    "import random\n",
    "print(random.sample(count_vectorizer.get_feature_names(), 8))"
   ]
  },
  {
   "cell_type": "markdown",
   "metadata": {},
   "source": [
    "## Naive Bayes"
   ]
  },
  {
   "cell_type": "code",
   "execution_count": 534,
   "metadata": {},
   "outputs": [],
   "source": [
    "from sklearn.naive_bayes import MultinomialNB\n",
    "from sklearn import metrics\n",
    "\n",
    "#create an instance of the Naive Bayes object\n",
    "nb_classifier = MultinomialNB()\n",
    "\n",
    "#fit the training data vector + labels with the classifier\n",
    "nb_classifier.fit(count_train, y_train) \n",
    "\n",
    "#use the classifier to make predictions on the test data\n",
    "predictions = nb_classifier.predict(count_test) "
   ]
  },
  {
   "cell_type": "code",
   "execution_count": 533,
   "metadata": {},
   "outputs": [
    {
     "name": "stdout",
     "output_type": "stream",
     "text": [
      "Model tested is Count Vectorizer with n-grams up to 3 of tweet text using Multinomial Naive Bayes\n",
      "Model has 78.29 percent accuracy rate at predicting the level of 'likes'\n"
     ]
    }
   ],
   "source": [
    "#assess the accuracy of those predictions\n",
    "a = metrics.accuracy_score(y_test, predictions)*100\n",
    "\n",
    "# Format results as a 2 digit decimal\n",
    "accuracy = f'{a:.2f}'\n",
    "    \n",
    "# Print message with results\n",
    "print(\"Model tested is Count Vectorizer with n-grams up to 3 of tweet text using Multinomial Naive Bayes\")\n",
    "print(\"Model has %s percent accuracy rate at predicting the level of 'likes'\" % accuracy)"
   ]
  },
  {
   "cell_type": "code",
   "execution_count": 505,
   "metadata": {
    "scrolled": true
   },
   "outputs": [
    {
     "name": "stdout",
     "output_type": "stream",
     "text": [
      "                            Guess: Liked a Little  Guess: Liked a Lot\n",
      "True label: Liked a Little                  10650                 164\n",
      "True label: Liked a Lot                      2948                 573\n"
     ]
    }
   ],
   "source": [
    "confused = metrics.confusion_matrix(y_test, predictions, labels=[0,1])\n",
    "confused_df = pd.DataFrame(confused, columns = ['Guess: Liked a Little', 'Guess: Liked a Lot'], index=['True label: Liked a Little', 'True label: Liked a Lot'])\n",
    "print(confused_df)\n"
   ]
  },
  {
   "cell_type": "markdown",
   "metadata": {},
   "source": [
    "## Decision Tree\n",
    "\n",
    "We can re-use the matrices and try a different classifier."
   ]
  },
  {
   "cell_type": "code",
   "execution_count": 523,
   "metadata": {},
   "outputs": [
    {
     "data": {
      "text/plain": [
       "DecisionTreeClassifier(class_weight=None, criterion='gini', max_depth=None,\n",
       "                       max_features=None, max_leaf_nodes=None,\n",
       "                       min_impurity_decrease=0.0, min_impurity_split=None,\n",
       "                       min_samples_leaf=1, min_samples_split=2,\n",
       "                       min_weight_fraction_leaf=0.0, presort=False,\n",
       "                       random_state=88, splitter='best')"
      ]
     },
     "execution_count": 523,
     "metadata": {},
     "output_type": "execute_result"
    }
   ],
   "source": [
    "#Decision Tree\n",
    "from sklearn.tree import DecisionTreeClassifier\n",
    "\n",
    "dt = DecisionTreeClassifier(random_state=88, splitter='best')\n",
    "dt.fit(count_train, y_train)\n"
   ]
  },
  {
   "cell_type": "code",
   "execution_count": 529,
   "metadata": {},
   "outputs": [
    {
     "name": "stdout",
     "output_type": "stream",
     "text": [
      "Model tested uses vectorized token counts with n-grams up to 3 of tweet text, fit using Decision Tree\n",
      "Model has 77.59 percent accuracy rate at predicting the level of 'likes'\n"
     ]
    }
   ],
   "source": [
    "#See results\n",
    "b = dt.score(count_test, y_test)*100\n",
    "\n",
    "accuracy_b = f'{b:.2f}' #format\n",
    "    \n",
    "# Print message with results\n",
    "print(\"Model tested uses vectorized token counts with n-grams up to 3 of tweet text, fit using Decision Tree\")\n",
    "print(\"Model has %s percent accuracy rate at predicting the level of 'likes'\" % accuracy)"
   ]
  },
  {
   "cell_type": "markdown",
   "metadata": {},
   "source": [
    "## Random Forrest\n",
    "Again re-using the date, we can classify with Random Forrest"
   ]
  },
  {
   "cell_type": "code",
   "execution_count": 525,
   "metadata": {},
   "outputs": [
    {
     "data": {
      "text/plain": [
       "RandomForestClassifier(bootstrap=True, class_weight=None, criterion='gini',\n",
       "                       max_depth=None, max_features='auto', max_leaf_nodes=None,\n",
       "                       min_impurity_decrease=0.0, min_impurity_split=None,\n",
       "                       min_samples_leaf=1, min_samples_split=2,\n",
       "                       min_weight_fraction_leaf=0.0, n_estimators=100,\n",
       "                       n_jobs=None, oob_score=False, random_state=88, verbose=0,\n",
       "                       warm_start=False)"
      ]
     },
     "execution_count": 525,
     "metadata": {},
     "output_type": "execute_result"
    }
   ],
   "source": [
    "#Random Forrest\n",
    "from sklearn.ensemble import RandomForestClassifier\n",
    "\n",
    "rf = RandomForestClassifier(bootstrap=True, random_state=88, n_estimators = 100)\n",
    "rf.fit(count_train, y_train)\n"
   ]
  },
  {
   "cell_type": "code",
   "execution_count": 530,
   "metadata": {},
   "outputs": [
    {
     "name": "stdout",
     "output_type": "stream",
     "text": [
      "Model tested uses Count Vectorizer with n-grams up to 3 of tweet text, fit using Random Forrest\n",
      "Model has 77.59 percent accuracy rate at predicting the level of 'likes'\n"
     ]
    }
   ],
   "source": [
    "#see results\n",
    "c = rf.score(count_test, y_test)*100\n",
    "\n",
    "accuracy_c = f'{c:.2f}' #format\n",
    "    \n",
    "# Print message with results\n",
    "print(\"Model tested uses Count Vectorizer with n-grams up to 3 of tweet text, fit using Random Forrest\")\n",
    "print(\"Model has %s percent accuracy rate at predicting the level of 'likes'\" % accuracy)"
   ]
  },
  {
   "cell_type": "markdown",
   "metadata": {},
   "source": [
    "## Classification: Conclusion\n",
    "\n",
    "Comparing results, the models are not very differnet. Naive Bayes, the simplest model, runs by far the fastest in addition to producing the most accurate results. "
   ]
  },
  {
   "cell_type": "code",
   "execution_count": 535,
   "metadata": {},
   "outputs": [
    {
     "data": {
      "text/html": [
       "<div>\n",
       "<style scoped>\n",
       "    .dataframe tbody tr th:only-of-type {\n",
       "        vertical-align: middle;\n",
       "    }\n",
       "\n",
       "    .dataframe tbody tr th {\n",
       "        vertical-align: top;\n",
       "    }\n",
       "\n",
       "    .dataframe thead th {\n",
       "        text-align: right;\n",
       "    }\n",
       "</style>\n",
       "<table border=\"1\" class=\"dataframe\">\n",
       "  <thead>\n",
       "    <tr style=\"text-align: right;\">\n",
       "      <th></th>\n",
       "      <th>Naive Bayes</th>\n",
       "      <th>Decision Tree</th>\n",
       "      <th>Random Forest</th>\n",
       "    </tr>\n",
       "  </thead>\n",
       "  <tbody>\n",
       "    <tr>\n",
       "      <th>Accuracy (%)</th>\n",
       "      <td>78.29</td>\n",
       "      <td>73.39</td>\n",
       "      <td>77.59</td>\n",
       "    </tr>\n",
       "  </tbody>\n",
       "</table>\n",
       "</div>"
      ],
      "text/plain": [
       "             Naive Bayes Decision Tree Random Forest\n",
       "Accuracy (%)       78.29         73.39         77.59"
      ]
     },
     "execution_count": 535,
     "metadata": {},
     "output_type": "execute_result"
    }
   ],
   "source": [
    "Conclusion = {'Naive Bayes': accuracy, 'Decision Tree' : accuracy_b, 'Random Forest' : accuracy_c}\n",
    "pd.DataFrame(Conclusion, index=['Accuracy (%)'])"
   ]
  },
  {
   "cell_type": "markdown",
   "metadata": {},
   "source": [
    "## [Project Table of Contents](https://github.com/aliceafriedman/team6_final/blob/master/Intro%20Proposal.ipynb)\n",
    "\n",
    "- Setup: [Data Scraping](https://github.com/aliceafriedman/team6_final/blob/master/Data%20Scraping.ipynb)\n",
    "\n",
    "- Part I. <a href=\"https://github.com/aliceafriedman/team6_final/blob/master/Final_Project_Sentiment_Analysis.ipynb\" target=\"_blank\">Sentiment Analysis</a>\n",
    "\n",
    "- Part II. <a href=\"https://github.com/aliceafriedman/team6_final/blob/master/07162019JPFollowersTweetDownloader-final%20version.ipynb\" target=\"_blank\">Data Visualization</a>  \n",
    "\n",
    "- Part III. [Classification](https://github.com/aliceafriedman/team6_final/blob/master/classification.ipynb)\n",
    "\n",
    "-  Part IV. <a href=\"https://github.com/aliceafriedman/team6_final/blob/master/Project%204%20Bad%20Twitter%20Bots%20Jeff_v1.ipynb\" target=\"_blank\">Twitter Bot</a>  "
   ]
  },
  {
   "cell_type": "code",
   "execution_count": null,
   "metadata": {},
   "outputs": [],
   "source": []
  }
 ],
 "metadata": {
  "kernelspec": {
   "display_name": "Python 3",
   "language": "python",
   "name": "python3"
  },
  "language_info": {
   "codemirror_mode": {
    "name": "ipython",
    "version": 3
   },
   "file_extension": ".py",
   "mimetype": "text/x-python",
   "name": "python",
   "nbconvert_exporter": "python",
   "pygments_lexer": "ipython3",
   "version": "3.7.3"
  }
 },
 "nbformat": 4,
 "nbformat_minor": 2
}
