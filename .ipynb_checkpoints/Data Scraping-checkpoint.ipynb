{
 "cells": [
  {
   "cell_type": "code",
   "execution_count": 1,
   "metadata": {},
   "outputs": [],
   "source": [
    "import matplotlib.pyplot as plt\n",
    "import pandas as pd\n",
    "import json\n",
    "from twython import Twython\n",
    "import time\n",
    "import re"
   ]
  },
  {
   "cell_type": "markdown",
   "metadata": {},
   "source": [
    "# Data Scraping\n",
    "\n",
    "Code below has scraped *all* of Mike Gravel's followers for June 21, 2019 + July 12, 2019. "
   ]
  },
  {
   "cell_type": "code",
   "execution_count": 2,
   "metadata": {},
   "outputs": [],
   "source": [
    "# Code below adapated from: https://stackabuse.com/accessing-the-twitter-api-with-python/\n",
    "# Load Twitter API credentials from json file\n",
    "with open(\"twitter_credentials.json\", \"r\") as file:  \n",
    "    creds = json.load(file)\n",
    "\n",
    "# Instantiate an object and provide Twitter credentials\n",
    "twitter = Twython(creds['CONSUMER_KEY'], creds['CONSUMER_SECRET_KEY'], creds['ACCESS_TOKEN'], creds['ACCESS_SECRET_TOKEN'])"
   ]
  },
  {
   "cell_type": "code",
   "execution_count": 3,
   "metadata": {},
   "outputs": [],
   "source": [
    "# Code below adapated from: https://stackabuse.com/accessing-the-twitter-api-with-python/\n",
    "# Load Twitter API credentials from json file\n",
    "with open(\"twitter_credentials.json\", \"r\") as file:  \n",
    "    creds = json.load(file)\n",
    "\n",
    "# Instantiate an object and provide Twitter credentials\n",
    "twitter = Twython(creds['CONSUMER_KEY'], creds['CONSUMER_SECRET_KEY'], creds['ACCESS_TOKEN'], creds['ACCESS_SECRET_TOKEN'])"
   ]
  },
  {
   "cell_type": "code",
   "execution_count": 4,
   "metadata": {},
   "outputs": [
    {
     "name": "stdout",
     "output_type": "stream",
     "text": [
      "Saving mikegravel's followers' tweets to JSON file\n",
      "Wed Jul 17 12:58:27 2019\n"
     ]
    }
   ],
   "source": [
    "def get_followers_json(username):\n",
    "    # create empty dictionary to accept data\n",
    "    dict_fol = {'screen_name': [], 'verified': [], 'location': [], 'followers_count': [], 'tweet_text': [], 'retweet_count': [], 'favorite_count': []}  \n",
    "\n",
    "    # we don't want to dump directly to the graph because we'll get a giant hairball\n",
    "    # we will want to filter for users with more followers before moving to depth=2 of the social network\n",
    "    #create loop to page through API results without hitting rate limit\n",
    "    next_cursor = -1\n",
    "    timeout = time.time() + 60*60*12 #creates a hard end time for the script to run (12 hrs)\n",
    "\n",
    "    while(next_cursor):\n",
    "        if time.time() > timeout: \n",
    "            break #ends loop after timeout period\n",
    "        get_followers = twitter.get_followers_list(screen_name='mikegravel', count = 200, cursor=next_cursor)\n",
    "        for user in get_followers['users']:  \n",
    "            dict_fol['screen_name'].append(user['screen_name'])\n",
    "            dict_fol['verified'].append(user['verified'])\n",
    "            dict_fol['followers_count'].append(user['followers_count'])\n",
    "            \n",
    "            try:\n",
    "                dict_fol['location'].append(user['location'])\n",
    "            except:\n",
    "                dict_fol['location'].append(None) #many users leave this blank\n",
    "            \n",
    "            try:\n",
    "                dict_fol['tweet_text'].append(user['status']['text'])\n",
    "            except:\n",
    "                dict_fol['tweet_text'].append(None) #a good number of users have no tweets!\n",
    "            \n",
    "            try:\n",
    "                dict_fol['retweet_count'].append(user['status']['retweet_count'])\n",
    "            except:\n",
    "                dict_fol['retweet_count'].append(None)\n",
    "            \n",
    "            try:\n",
    "                dict_fol['favorite_count'].append(user['status']['favorite_count']) \n",
    "            except:\n",
    "                dict_fol['favorite_count'].append(None)\n",
    "                \n",
    "        try: \n",
    "            time.sleep(65)\n",
    "            next_cursor = get_followers[\"next_cursor\"]\n",
    "            print(\"Getting more of tweets of %s's followers\" % username)\n",
    "            print (time.asctime())\n",
    "        except:\n",
    "            break\n",
    "  \n",
    "\n",
    "    filename=username + str(time.time()) + \"_followers.json\"\n",
    "    \n",
    "    with open(filename, \"w\") as file:\n",
    "        json.dump(dict_fol, file)\n",
    "        \n",
    "    print(\"Saving %s's followers' tweets to JSON file\" % username)\n",
    "    print (time.asctime())\n",
    "    return dict_fol\n",
    "\n",
    "get_followers_tweets = get_followers_json('mikegravel')"
   ]
  },
  {
   "cell_type": "markdown",
   "metadata": {},
   "source": [
    "Note: Due to the length of time required to run this code, the code above is only partially executed as an example. Total runtime to collect ~100,000 tweets is roughly 12 hours."
   ]
  }
 ],
 "metadata": {
  "kernelspec": {
   "display_name": "Python 3",
   "language": "python",
   "name": "python3"
  },
  "language_info": {
   "codemirror_mode": {
    "name": "ipython",
    "version": 3
   },
   "file_extension": ".py",
   "mimetype": "text/x-python",
   "name": "python",
   "nbconvert_exporter": "python",
   "pygments_lexer": "ipython3",
   "version": "3.7.3"
  }
 },
 "nbformat": 4,
 "nbformat_minor": 2
}
