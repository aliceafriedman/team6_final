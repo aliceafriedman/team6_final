{
 "cells": [
  {
   "cell_type": "markdown",
   "metadata": {},
   "source": [
    "# Data 620 Final Project: Analysis of Political Tweets  \n",
    "\n",
    "Group 6: Alice Friedman, Stephen Jones, Jeff Littlejohn, Jun Pan  \n",
    "July 17, 2019\n",
    "\n",
    "## Project Summary\n",
    "\n",
    "What makes a social media post popular? What elements cause a Tweet to be liked or shared via retweet? Using a corpus of tweets from users loosely connected to a political candidate, we  aimed to find out. Team 6 worked with a corpus of 100,000+ tweets scraped from the followers of presidential-hopeful Mike Gravel (@mikegravel) on two dates, roughly one-month apart. The corpus was used to:\n",
    "\n",
    " - Perform a detailed <a href=\"https://github.com/aliceafriedman/team6_final/blob/master/Final_Project_Sentiment_Analysis.ipynb\" target=\"_blank\">sentiment analysis</a>, investigating which terms were more associated with postive or negative sentiment, and how those terms changed over time\n",
    "\n",
    "- Visualize the data with intricate ##### Part II. <a href=\"https://github.com/aliceafriedman/team6_final/blob/master/07162019JPFollowersTweetDownloader-final%20version.ipynb\" target=\"_blank\">word clouds</a>  \n",
    "\n",
    "- Develop a <a href=\"https://github.com/aliceafriedman/team6_final/blob/master/classification_and_setup.ipynb\" target=\"_blank\">classification</a> model based on tweet text to predict whether a tweet is likely to garner a relatively large number of likes, normalized the number of followers a user has\n",
    "\n",
    "- Develop a <a href=\"https://github.com/aliceafriedman/team6_final/blob/master/Project%204%20Bad%20Twitter%20Bots%20Jeff_v1.ipynb\" target=\"_blank\">Twitter bot</a>   that generates political \"tweets\" based on the corpus\n",
    "\n",
    "\n",
    "\n",
    "#### Data Source:  \n",
    "\n",
    "For the Final Project, we are sticking our initial approach of pulling data via the Twitter API from followers of Mike Gravel that we identified in that first project. However, we’ve updated our code to pull the text of the tweets and metadata such as number of retweets and likes. As of the time of the proposal, we appear to be limited to only pulling the last tweet from a given user at the time of our accessing the API, which is a significant limitation.  \n",
    "\n",
    "We’re aware that our sample of tweets is specific to people following a fringe primary candidate and not representative of social media overall or even just “political Twitter” itself. Still, an older political candidate curious about the sentiments and topics prevalent among younger, politically engaged users on social media could find an expanded version of our exercise useful in defining a strategy for voter engagement.  \n",
    "\n",
    "## Table of Contents\n",
    "\n",
    "##### Part I. <a href=\"https://github.com/aliceafriedman/team6_final/blob/master/Final_Project_Sentiment_Analysis.ipynb\" target=\"_blank\">Sentiment Analysis</a>\n",
    "##### Part II. <a href=\"https://github.com/aliceafriedman/team6_final/blob/master/07162019JPFollowersTweetDownloader-final%20version.ipynb\" target=\"_blank\">Data Visualization</a>  \n",
    "##### Part III. <a href=\"https://github.com/aliceafriedman/team6_final/blob/master/classification_and_setup.ipynb\" target=\"_blank\">Classification</a>\n",
    "##### Part IV. <a href=\"https://github.com/aliceafriedman/team6_final/blob/master/Project%204%20Bad%20Twitter%20Bots%20Jeff_v1.ipynb\" target=\"_blank\">Twitter Bot</a>  \n",
    "\n",
    "\n",
    "##### <center>Please click to continue: <a href=\"https://github.com/aliceafriedman/team6_final/blob/master/Final_Project_Sentiment_Analysis.ipynb\" target=\"_blank\">Sentiment Analysis</a>\n"
   ]
  }
 ],
 "metadata": {
  "kernelspec": {
   "display_name": "Python 3",
   "language": "python",
   "name": "python3"
  },
  "language_info": {
   "codemirror_mode": {
    "name": "ipython",
    "version": 3
   },
   "file_extension": ".py",
   "mimetype": "text/x-python",
   "name": "python",
   "nbconvert_exporter": "python",
   "pygments_lexer": "ipython3",
   "version": "3.7.3"
  },
  "toc": {
   "base_numbering": 1,
   "nav_menu": {},
   "number_sections": false,
   "sideBar": true,
   "skip_h1_title": false,
   "title_cell": "Table of Contents",
   "title_sidebar": "Contents",
   "toc_cell": false,
   "toc_position": {},
   "toc_section_display": true,
   "toc_window_display": false
  }
 },
 "nbformat": 4,
 "nbformat_minor": 2
}
